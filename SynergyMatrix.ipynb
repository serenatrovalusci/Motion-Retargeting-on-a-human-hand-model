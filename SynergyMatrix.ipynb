{
  "nbformat": 4,
  "nbformat_minor": 0,
  "metadata": {
    "colab": {
      "provenance": []
    },
    "kernelspec": {
      "name": "python3",
      "display_name": "Python 3"
    },
    "language_info": {
      "name": "python"
    }
  },
  "cells": [
    {
      "cell_type": "code",
      "execution_count": 1,
      "metadata": {
        "id": "OrYAOnVX7I88",
        "colab": {
          "base_uri": "https://localhost:8080/"
        },
        "outputId": "fc654e07-3d4d-45ee-fcb4-14e8a2dfffe7"
      },
      "outputs": [
        {
          "output_type": "stream",
          "name": "stdout",
          "text": [
            "Mounted at /content/drive\n"
          ]
        }
      ],
      "source": [
        "from google.colab import drive\n",
        "drive.mount('/content/drive')"
      ]
    },
    {
      "cell_type": "code",
      "source": [
        "######## FROM CLOSURE PARAMETERS TO JOINT CONFIGURATION #########"
      ],
      "metadata": {
        "id": "DPxWLkdYRK8O"
      },
      "execution_count": null,
      "outputs": []
    },
    {
      "cell_type": "code",
      "source": [
        "import numpy as np\n",
        "import pandas as pd\n",
        "import torch\n",
        "import torch.nn as nn\n",
        "import torch.optim as optim\n",
        "from torch.utils.data import DataLoader, TensorDataset\n",
        "from sklearn.preprocessing import MinMaxScaler\n",
        "import csv"
      ],
      "metadata": {
        "id": "yERILMEqRRw6"
      },
      "execution_count": 2,
      "outputs": []
    },
    {
      "cell_type": "code",
      "source": [
        "from sklearn.preprocessing import StandardScaler"
      ],
      "metadata": {
        "id": "JY_H3NWZ1NAs"
      },
      "execution_count": 7,
      "outputs": []
    },
    {
      "cell_type": "code",
      "source": [
        "from sklearn.decomposition import PCA"
      ],
      "metadata": {
        "id": "hk_xVkxn1SpU"
      },
      "execution_count": 9,
      "outputs": []
    },
    {
      "cell_type": "code",
      "source": [
        "dataset_path = '/content/drive/MyDrive/Medical_Robotics_Project/last_dataset.csv'"
      ],
      "metadata": {
        "id": "x77JBSBgRI2K"
      },
      "execution_count": 3,
      "outputs": []
    },
    {
      "cell_type": "code",
      "source": [
        "with open(dataset_path, 'r') as f:\n",
        "    reader = csv.reader(f)\n",
        "    next(reader)  # Skip header row\n",
        "    data = [row[:-4] for row in reader]  # Take all columns except last 3\n",
        "joint_angles = np.array(data, dtype=float)"
      ],
      "metadata": {
        "id": "GpVk0lkZUi28"
      },
      "execution_count": 4,
      "outputs": []
    },
    {
      "cell_type": "code",
      "source": [
        "with open(dataset_path, 'r') as f:\n",
        "    reader = csv.reader(f)\n",
        "    next(reader)  # Skip header row\n",
        "    data = [row[-4:] for row in reader]  # Take all columns except last 3\n",
        "closure_parameters = np.array(data, dtype=float)"
      ],
      "metadata": {
        "id": "27KySZO2Uw3L"
      },
      "execution_count": 5,
      "outputs": []
    },
    {
      "cell_type": "code",
      "source": [
        "# 1. Standardize\n",
        "scaler = StandardScaler()\n",
        "joint_angles_standardized = scaler.fit_transform(joint_angles)\n",
        "\n",
        "# 2. PCA with 95% variance retention\n",
        "pca = PCA(n_components=0.97)\n",
        "synergy_matrix = pca.fit_transform(joint_angles_standardized)\n",
        "\n",
        "print(f\"Original dimensions: {joint_angles.shape[1]}\")\n",
        "print(f\"Reduced dimensions: {synergy_matrix.shape[1]}\")\n",
        "print(f\"Explained variance: {np.sum(pca.explained_variance_ratio_):.2f}\")"
      ],
      "metadata": {
        "colab": {
          "base_uri": "https://localhost:8080/"
        },
        "id": "nvR3t_k2ziCO",
        "outputId": "e562b9fa-7b7d-4251-f254-c0750e639510"
      },
      "execution_count": 15,
      "outputs": [
        {
          "output_type": "stream",
          "name": "stdout",
          "text": [
            "Original dimensions: 27\n",
            "Reduced dimensions: 9\n",
            "Explained variance: 0.98\n"
          ]
        }
      ]
    },
    {
      "cell_type": "code",
      "source": [],
      "metadata": {
        "id": "1Ovfgtg513nG"
      },
      "execution_count": null,
      "outputs": []
    },
    {
      "cell_type": "code",
      "source": [
        "#Normalize\n",
        "scaler_closures = MinMaxScaler()\n",
        "scaler_joints = MinMaxScaler()\n",
        "X_scaled = scaler_closures.fit_transform(closure_parameters)\n",
        "y_scaled = scaler_joints.fit_transform(joint_angles)"
      ],
      "metadata": {
        "id": "iJtH9kzLShzx"
      },
      "execution_count": null,
      "outputs": []
    },
    {
      "cell_type": "code",
      "source": [
        "# Convert to PyTorch tensors\n",
        "X_tensor = torch.FloatTensor(X_scaled)\n",
        "y_tensor = torch.FloatTensor(y_scaled)\n",
        "#dataset = TensorDataset(X_tensor, y_tensor)\n",
        "#loader = DataLoader(dataset, batch_size=32, shuffle=True)"
      ],
      "metadata": {
        "id": "UuwgKvM8XJBY"
      },
      "execution_count": null,
      "outputs": []
    },
    {
      "cell_type": "code",
      "source": [
        "from sklearn.model_selection import train_test_split\n",
        "import matplotlib.pyplot as plt\n",
        "#Train/Validation/Test Split (60/20/20)\n",
        "X_train, X_temp, y_train, y_temp = train_test_split(X_scaled, y_scaled, test_size=0.4, random_state=42)\n",
        "X_val, X_test, y_val, y_test = train_test_split(X_temp, y_temp, test_size=0.5, random_state=42)\n",
        "\n",
        "# Convert to PyTorch tensors\n",
        "X_train_t = torch.FloatTensor(X_train)\n",
        "y_train_t = torch.FloatTensor(y_train)\n",
        "X_val_t = torch.FloatTensor(X_val)\n",
        "y_val_t = torch.FloatTensor(y_val)\n",
        "X_test_t = torch.FloatTensor(X_test)\n",
        "y_test_t = torch.FloatTensor(y_test)\n",
        "\n",
        "# VAE Model\n",
        "class VAE(nn.Module):\n",
        "    def __init__(self):\n",
        "        super().__init__()\n",
        "        # Encoder\n",
        "        self.fc1 = nn.Linear(3, 64)\n",
        "        self.fc_mean = nn.Linear(64, 8)\n",
        "        self.fc_logvar = nn.Linear(64, 8)\n",
        "        # Decoder\n",
        "        self.fc2 = nn.Linear(8, 64)\n",
        "        self.fc3 = nn.Linear(64, 27)\n",
        "\n",
        "    def encode(self, x):\n",
        "        h = torch.relu(self.fc1(x))\n",
        "        return self.fc_mean(h), self.fc_logvar(h)\n",
        "\n",
        "    def decode(self, z):\n",
        "        h = torch.relu(self.fc2(z))\n",
        "        return torch.sigmoid(self.fc3(h))\n",
        "\n",
        "    def forward(self, x):\n",
        "        z_mean, z_logvar = self.encode(x)\n",
        "        z = z_mean + torch.exp(0.5 * z_logvar) * torch.randn_like(z_logvar)\n",
        "        return self.decode(z), z_mean, z_logvar\n",
        "\n",
        "model = VAE()\n",
        "optimizer = optim.Adam(model.parameters(), lr=0.001)\n",
        "\n",
        "# Loss function\n",
        "def loss_function(recon_y, y, z_mean, z_logvar):\n",
        "    MSE = nn.MSELoss()(recon_y, y)\n",
        "    KLD = -0.5 * torch.sum(1 + z_logvar - z_mean.pow(2) - z_logvar.exp())\n",
        "    return MSE + 0.1 * KLD  # KL weight=0.1\n",
        "\n",
        "# Training with early stopping\n",
        "train_losses, val_losses = [], []\n",
        "best_val_loss = float('inf')\n",
        "patience = 5\n",
        "epochs_no_improve = 0\n",
        "\n",
        "for epoch in range(500):\n",
        "    # Training\n",
        "    model.train()\n",
        "    optimizer.zero_grad()\n",
        "    recon_y, z_mean, z_logvar = model(X_train_t)\n",
        "    loss = loss_function(recon_y, y_train_t, z_mean, z_logvar)\n",
        "    loss.backward()\n",
        "    optimizer.step()\n",
        "    train_losses.append(loss.item())\n",
        "\n",
        "    # Validation\n",
        "    model.eval()\n",
        "    with torch.no_grad():\n",
        "        recon_val, z_mean_val, z_logvar_val = model(X_val_t)\n",
        "        val_loss = loss_function(recon_val, y_val_t, z_mean_val, z_logvar_val)\n",
        "        val_losses.append(val_loss.item())\n",
        "\n",
        "    # Early stopping check\n",
        "    if val_loss < best_val_loss:\n",
        "        best_val_loss = val_loss\n",
        "        epochs_no_improve = 0\n",
        "        torch.save(model.state_dict(), 'best_vae.pth')\n",
        "    else:\n",
        "        epochs_no_improve += 1\n",
        "        if epochs_no_improve == patience:\n",
        "            print(f\"Early stopping at epoch {epoch}!\")\n",
        "            break\n",
        "\n",
        "    if epoch % 10 == 0:\n",
        "        print(f\"Epoch {epoch}: Train Loss = {loss.item():.4f}, Val Loss = {val_loss.item():.4f}\")\n",
        "\n",
        "# Load best model\n",
        "model.load_state_dict(torch.load('best_vae.pth'))\n",
        "\n",
        "# Test evaluation\n",
        "model.eval()\n",
        "with torch.no_grad():\n",
        "    recon_test, _, _ = model(X_test_t)\n",
        "    test_loss = loss_function(recon_test, y_test_t, _, _)\n",
        "    print(f\"\\nFinal Test Loss: {test_loss.item():.4f}\")\n",
        "\n",
        "    # Compare first test sample\n",
        "    sample_idx = 0\n",
        "    pred = scaler_joints.inverse_transform(recon_test[sample_idx].numpy().reshape(1, -1))\n",
        "    true = scaler_joints.inverse_transform(y_test[sample_idx].reshape(1, -1))\n",
        "    print(\"\\nTest Sample Comparison (first 5 values):\")\n",
        "    print(\"Predicted:\", pred[0][:5])\n",
        "    print(\"Actual:   \", true[0][:5])\n",
        "\n",
        "# Plot training curves\n",
        "plt.figure(figsize=(10, 5))\n",
        "plt.plot(train_losses, label='Training Loss')\n",
        "plt.plot(val_losses, label='Validation Loss')\n",
        "plt.xlabel('Epoch')\n",
        "plt.ylabel('Loss')\n",
        "plt.title('Training Progress')\n",
        "plt.legend()\n",
        "plt.show()\n",
        "\n",
        "# Prediction function\n",
        "def predict_joint_angles(thumb, index, middle):\n",
        "    closure = np.array([[thumb, index, middle]])\n",
        "    closure_scaled = scaler_closures.transform(closure)\n",
        "    with torch.no_grad():\n",
        "        recon = model(torch.FloatTensor(closure_scaled))[0]\n",
        "    return scaler_joints.inverse_transform(recon.numpy())[0]\n",
        "\n",
        "# Example usage\n",
        "print(\"\\nPrediction for [0.5, 0.2, 0.3]:\")\n",
        "print(predict_joint_angles(0.5, 0.2, 0.3)[:5], \"...\")  # First 5 angles"
      ],
      "metadata": {
        "colab": {
          "base_uri": "https://localhost:8080/",
          "height": 1000
        },
        "id": "a89yRYuYZebP",
        "outputId": "16109489-4334-4c55-cd8b-3dbe8dfbd6a2"
      },
      "execution_count": null,
      "outputs": [
        {
          "output_type": "stream",
          "name": "stdout",
          "text": [
            "Epoch 0: Train Loss = 70.4856, Val Loss = 21.1738\n",
            "Epoch 10: Train Loss = 22.2568, Val Loss = 6.7028\n",
            "Epoch 20: Train Loss = 7.7317, Val Loss = 2.4836\n",
            "Epoch 30: Train Loss = 3.9540, Val Loss = 1.4145\n",
            "Epoch 40: Train Loss = 2.9603, Val Loss = 1.0842\n",
            "Epoch 50: Train Loss = 1.9577, Val Loss = 0.7460\n",
            "Epoch 60: Train Loss = 1.3661, Val Loss = 0.5425\n",
            "Epoch 70: Train Loss = 1.0410, Val Loss = 0.4299\n",
            "Epoch 80: Train Loss = 0.8181, Val Loss = 0.3558\n",
            "Epoch 90: Train Loss = 0.6609, Val Loss = 0.3036\n",
            "Epoch 100: Train Loss = 0.5550, Val Loss = 0.2687\n",
            "Epoch 110: Train Loss = 0.4826, Val Loss = 0.2454\n",
            "Epoch 120: Train Loss = 0.4341, Val Loss = 0.2293\n",
            "Epoch 130: Train Loss = 0.3977, Val Loss = 0.2186\n",
            "Epoch 140: Train Loss = 0.3682, Val Loss = 0.2089\n",
            "Epoch 150: Train Loss = 0.3434, Val Loss = 0.2009\n",
            "Epoch 160: Train Loss = 0.3227, Val Loss = 0.1939\n",
            "Epoch 170: Train Loss = 0.3045, Val Loss = 0.1880\n",
            "Epoch 180: Train Loss = 0.2894, Val Loss = 0.1833\n",
            "Epoch 190: Train Loss = 0.2762, Val Loss = 0.1792\n",
            "Epoch 200: Train Loss = 0.2647, Val Loss = 0.1750\n",
            "Epoch 210: Train Loss = 0.2547, Val Loss = 0.1717\n",
            "Epoch 220: Train Loss = 0.2454, Val Loss = 0.1685\n",
            "Epoch 230: Train Loss = 0.2377, Val Loss = 0.1663\n",
            "Epoch 240: Train Loss = 0.2302, Val Loss = 0.1637\n",
            "Epoch 250: Train Loss = 0.2239, Val Loss = 0.1619\n",
            "Epoch 260: Train Loss = 0.2183, Val Loss = 0.1600\n",
            "Epoch 270: Train Loss = 0.2131, Val Loss = 0.1586\n",
            "Epoch 280: Train Loss = 0.2082, Val Loss = 0.1568\n",
            "Epoch 290: Train Loss = 0.2040, Val Loss = 0.1551\n",
            "Epoch 300: Train Loss = 0.1998, Val Loss = 0.1543\n",
            "Epoch 310: Train Loss = 0.1964, Val Loss = 0.1528\n",
            "Epoch 320: Train Loss = 0.1934, Val Loss = 0.1519\n",
            "Epoch 330: Train Loss = 0.1901, Val Loss = 0.1506\n",
            "Epoch 340: Train Loss = 0.1874, Val Loss = 0.1501\n",
            "Epoch 350: Train Loss = 0.1852, Val Loss = 0.1492\n",
            "Epoch 360: Train Loss = 0.1829, Val Loss = 0.1485\n",
            "Epoch 370: Train Loss = 0.1809, Val Loss = 0.1477\n",
            "Epoch 380: Train Loss = 0.1790, Val Loss = 0.1473\n",
            "Epoch 390: Train Loss = 0.1774, Val Loss = 0.1468\n",
            "Epoch 400: Train Loss = 0.1757, Val Loss = 0.1462\n",
            "Epoch 410: Train Loss = 0.1741, Val Loss = 0.1455\n",
            "Epoch 420: Train Loss = 0.1728, Val Loss = 0.1453\n",
            "Epoch 430: Train Loss = 0.1714, Val Loss = 0.1450\n",
            "Epoch 440: Train Loss = 0.1703, Val Loss = 0.1442\n",
            "Epoch 450: Train Loss = 0.1691, Val Loss = 0.1440\n",
            "Epoch 460: Train Loss = 0.1678, Val Loss = 0.1435\n",
            "Early stopping at epoch 463!\n",
            "\n",
            "Final Test Loss: 0.1414\n",
            "\n",
            "Test Sample Comparison (first 5 values):\n",
            "Predicted: [-24.098156 -77.50654  -33.58277    4.945568  61.13049 ]\n",
            "Actual:    [-39.01666   158.1722    -32.84198    -0.3606873 138.08     ]\n"
          ]
        },
        {
          "output_type": "display_data",
          "data": {
            "text/plain": [
              "<Figure size 1000x500 with 1 Axes>"
            ],
            "image/png": "[encoded data removed]"
          },
          "metadata": {}
        },
        {
          "output_type": "stream",
          "name": "stdout",
          "text": [
            "\n",
            "Prediction for [0.5, 0.2, 0.3]:\n",
            "[-23.395874 -96.15837  -33.556187   8.040075  65.07215 ] ...\n"
          ]
        }
      ]
    },
    {
      "cell_type": "code",
      "source": [
        "import torch\n",
        "import torch.nn as nn\n",
        "import torch.nn.functional as F\n",
        "import torch.optim as optim\n",
        "\n",
        "# Define device\n",
        "device = torch.device(\"cuda\" if torch.cuda.is_available() else \"cpu\")\n",
        "\n",
        "# Define the CVAE model\n",
        "class ConditionalVAE(nn.Module):\n",
        "    def __init__(self, joint_dim=27, cond_dim=3, latent_dim=16, hidden_dim=64):\n",
        "        \"\"\"\n",
        "        joint_dim: dimensionality of joint configuration (27)\n",
        "        cond_dim: dimensionality of condition (closure parameters) (3)\n",
        "        latent_dim: dimensionality of latent space\n",
        "        hidden_dim: hidden layer size in encoder/decoder\n",
        "        \"\"\"\n",
        "        super(ConditionalVAE, self).__init__()\n",
        "        self.joint_dim = joint_dim\n",
        "        self.cond_dim = cond_dim\n",
        "        self.latent_dim = latent_dim\n",
        "\n",
        "        # Encoder: input = joint configuration + condition\n",
        "        self.encoder = nn.Sequential(\n",
        "            nn.Linear(joint_dim + cond_dim, hidden_dim),\n",
        "            nn.ReLU(),\n",
        "            nn.Linear(hidden_dim, hidden_dim),\n",
        "            nn.ReLU()\n",
        "        )\n",
        "        # Layers to output latent mean and log variance\n",
        "        self.fc_mu = nn.Linear(hidden_dim, latent_dim)\n",
        "        self.fc_logvar = nn.Linear(hidden_dim, latent_dim)\n",
        "\n",
        "        # Decoder: input = latent variable + condition\n",
        "        self.decoder = nn.Sequential(\n",
        "            nn.Linear(latent_dim + cond_dim, hidden_dim),\n",
        "            nn.ReLU(),\n",
        "            nn.Linear(hidden_dim, hidden_dim),\n",
        "            nn.ReLU(),\n",
        "            nn.Linear(hidden_dim, joint_dim)\n",
        "            # If you prefer, you can add a final activation (e.g., tanh or sigmoid)\n",
        "            # depending on the expected range of joint positions.\n",
        "        )\n",
        "\n",
        "    def encode(self, x, c):\n",
        "        # x: joint configuration [batch_size, joint_dim]\n",
        "        # c: condition (closure parameters) [batch_size, cond_dim]\n",
        "        xc = torch.cat([x, c], dim=1)\n",
        "        h = self.encoder(xc)\n",
        "        mu = self.fc_mu(h)\n",
        "        logvar = self.fc_logvar(h)\n",
        "        return mu, logvar\n",
        "\n",
        "    def reparameterize(self, mu, logvar):\n",
        "        std = torch.exp(0.5 * logvar)\n",
        "        eps = torch.randn_like(std)  # sample from standard normal\n",
        "        return mu + eps * std\n",
        "\n",
        "    def decode(self, z, c):\n",
        "        # z: latent variable [batch_size, latent_dim]\n",
        "        # c: condition (closure parameters) [batch_size, cond_dim]\n",
        "        zc = torch.cat([z, c], dim=1)\n",
        "        return self.decoder(zc)\n",
        "\n",
        "    def forward(self, x, c):\n",
        "        # Encode\n",
        "        mu, logvar = self.encode(x, c)\n",
        "        z = self.reparameterize(mu, logvar)\n",
        "        # Decode\n",
        "        recon_x = self.decode(z, c)\n",
        "        return recon_x, mu, logvar\n",
        "\n",
        "# Loss function (MSE + KL divergence)\n",
        "def loss_function(recon_x, x, mu, logvar):\n",
        "    # Reconstruction loss (Mean Squared Error)\n",
        "    recon_loss = F.mse_loss(recon_x, x, reduction='sum')\n",
        "    # KL divergence loss\n",
        "    # See Kingma & Welling (2013) for the derivation\n",
        "    kl_loss = -0.5 * torch.sum(1 + logvar - mu.pow(2) - logvar.exp())\n",
        "    return recon_loss + kl_loss\n",
        "\n",
        "# Hyperparameters\n",
        "joint_dim = 27\n",
        "cond_dim = 3\n",
        "latent_dim = 16\n",
        "hidden_dim = 64\n",
        "lr = 1e-3\n",
        "epochs = 100\n",
        "batch_size = 32\n",
        "\n",
        "# Initialize the model, optimizer\n",
        "model = ConditionalVAE(joint_dim=joint_dim, cond_dim=cond_dim,\n",
        "                       latent_dim=latent_dim, hidden_dim=hidden_dim).to(device)\n",
        "optimizer = optim.Adam(model.parameters(), lr=lr)\n",
        "\n",
        "# Dummy dataset loading\n",
        "# Assume you have your data in a CSV or similar\n",
        "# For this example, we'll create dummy data.\n",
        "# X_joint: [N, 27] joint configurations\n",
        "# X_cond: [N, 3] closure parameters (the last 3 columns)\n",
        "#N = 3487\n",
        "#data = torch.randn(N, joint_dim + cond_dim)  # Replace this with your actual data\n",
        "closure_tensor = torch.tensor(closure_parameters, dtype=torch.float32)\n",
        "joint_tensor = torch.tensor(joint_angles, dtype=torch.float32)\n",
        "\n",
        "# Split into joint config and conditions\n",
        "#X_joint = data[:, :joint_dim]\n",
        "#X_cond = data[:, joint_dim:]\n",
        "\n",
        "# Create a simple DataLoader\n",
        "dataset = torch.utils.data.TensorDataset(joint_tensor, closure_tensor )\n",
        "dataloader = torch.utils.data.DataLoader(dataset, batch_size=batch_size, shuffle=True)\n",
        "\n",
        "# Training loop\n",
        "model.train()\n",
        "for epoch in range(epochs):\n",
        "    total_loss = 0\n",
        "    for x_joint_batch, x_cond_batch in dataloader:\n",
        "        x_joint_batch = x_joint_batch.to(device)\n",
        "        x_cond_batch = x_cond_batch.to(device)\n",
        "\n",
        "        optimizer.zero_grad()\n",
        "        recon_joint, mu, logvar = model(x_joint_batch, x_cond_batch)\n",
        "        loss = loss_function(recon_joint, x_joint_batch, mu, logvar)\n",
        "        loss.backward()\n",
        "        optimizer.step()\n",
        "        total_loss += loss.item()\n",
        "\n",
        "    avg_loss = total_loss / len(dataset)\n",
        "    if (epoch+1) % 10 == 0:\n",
        "        print(f\"Epoch [{epoch+1}/{epochs}], Loss: {avg_loss:.4f}\")\n",
        "\n",
        "# After training, you can predict/generate joint configuration from closure parameters only.\n",
        "# For example, given a set of closure parameters, you can sample from the latent space\n",
        "# (or use the prior mean=0) and decode:\n",
        "model.eval()\n",
        "with torch.no_grad():\n",
        "    # Suppose we have a new set of closure parameters:\n",
        "    new_closure = torch.tensor([[0.5, 0.5, 0.5]], device=device)  # shape [1, 3]\n",
        "    # Sample a latent variable from standard normal:\n",
        "    z_sample = torch.randn(1, latent_dim, device=device)\n",
        "    predicted_joint = model.decode(z_sample, new_closure)\n",
        "    print(\"Predicted joint configuration:\", predicted_joint.cpu().numpy())\n"
      ],
      "metadata": {
        "colab": {
          "base_uri": "https://localhost:8080/",
          "height": 512
        },
        "id": "H0JhStAZwwOb",
        "outputId": "21e51be8-1020-4555-8542-b50c88250087"
      },
      "execution_count": null,
      "outputs": [
        {
          "output_type": "stream",
          "name": "stdout",
          "text": [
            "Epoch [10/100], Loss: 10487.3938\n",
            "Epoch [20/100], Loss: 3577.5126\n",
            "Epoch [30/100], Loss: 2219.2712\n",
            "Epoch [40/100], Loss: 1425.6143\n",
            "Epoch [50/100], Loss: 1144.9230\n",
            "Epoch [60/100], Loss: 981.7871\n",
            "Epoch [70/100], Loss: 842.9609\n"
          ]
        },
        {
          "output_type": "error",
          "ename": "KeyboardInterrupt",
          "evalue": "",
          "traceback": [
            "\u001b[0;31m---------------------------------------------------------------------------\u001b[0m",
            "\u001b[0;31mKeyboardInterrupt\u001b[0m                         Traceback (most recent call last)",
            "\u001b[0;32m<ipython-input-61-2b89f2f892ab>\u001b[0m in \u001b[0;36m<cell line: 0>\u001b[0;34m()\u001b[0m\n\u001b[1;32m    123\u001b[0m         \u001b[0mrecon_joint\u001b[0m\u001b[0;34m,\u001b[0m \u001b[0mmu\u001b[0m\u001b[0;34m,\u001b[0m \u001b[0mlogvar\u001b[0m \u001b[0;34m=\u001b[0m \u001b[0mmodel\u001b[0m\u001b[0;34m(\u001b[0m\u001b[0mx_joint_batch\u001b[0m\u001b[0;34m,\u001b[0m \u001b[0mx_cond_batch\u001b[0m\u001b[0;34m)\u001b[0m\u001b[0;34m\u001b[0m\u001b[0;34m\u001b[0m\u001b[0m\n\u001b[1;32m    124\u001b[0m         \u001b[0mloss\u001b[0m \u001b[0;34m=\u001b[0m \u001b[0mloss_function\u001b[0m\u001b[0;34m(\u001b[0m\u001b[0mrecon_joint\u001b[0m\u001b[0;34m,\u001b[0m \u001b[0mx_joint_batch\u001b[0m\u001b[0;34m,\u001b[0m \u001b[0mmu\u001b[0m\u001b[0;34m,\u001b[0m \u001b[0mlogvar\u001b[0m\u001b[0;34m)\u001b[0m\u001b[0;34m\u001b[0m\u001b[0;34m\u001b[0m\u001b[0m\n\u001b[0;32m--> 125\u001b[0;31m         \u001b[0mloss\u001b[0m\u001b[0;34m.\u001b[0m\u001b[0mbackward\u001b[0m\u001b[0;34m(\u001b[0m\u001b[0;34m)\u001b[0m\u001b[0;34m\u001b[0m\u001b[0;34m\u001b[0m\u001b[0m\n\u001b[0m\u001b[1;32m    126\u001b[0m         \u001b[0moptimizer\u001b[0m\u001b[0;34m.\u001b[0m\u001b[0mstep\u001b[0m\u001b[0;34m(\u001b[0m\u001b[0;34m)\u001b[0m\u001b[0;34m\u001b[0m\u001b[0;34m\u001b[0m\u001b[0m\n\u001b[1;32m    127\u001b[0m         \u001b[0mtotal_loss\u001b[0m \u001b[0;34m+=\u001b[0m \u001b[0mloss\u001b[0m\u001b[0;34m.\u001b[0m\u001b[0mitem\u001b[0m\u001b[0;34m(\u001b[0m\u001b[0;34m)\u001b[0m\u001b[0;34m\u001b[0m\u001b[0;34m\u001b[0m\u001b[0m\n",
            "\u001b[0;32m/usr/local/lib/python3.11/dist-packages/torch/_tensor.py\u001b[0m in \u001b[0;36mbackward\u001b[0;34m(self, gradient, retain_graph, create_graph, inputs)\u001b[0m\n\u001b[1;32m    624\u001b[0m                 \u001b[0minputs\u001b[0m\u001b[0;34m=\u001b[0m\u001b[0minputs\u001b[0m\u001b[0;34m,\u001b[0m\u001b[0;34m\u001b[0m\u001b[0;34m\u001b[0m\u001b[0m\n\u001b[1;32m    625\u001b[0m             )\n\u001b[0;32m--> 626\u001b[0;31m         torch.autograd.backward(\n\u001b[0m\u001b[1;32m    627\u001b[0m             \u001b[0mself\u001b[0m\u001b[0;34m,\u001b[0m \u001b[0mgradient\u001b[0m\u001b[0;34m,\u001b[0m \u001b[0mretain_graph\u001b[0m\u001b[0;34m,\u001b[0m \u001b[0mcreate_graph\u001b[0m\u001b[0;34m,\u001b[0m \u001b[0minputs\u001b[0m\u001b[0;34m=\u001b[0m\u001b[0minputs\u001b[0m\u001b[0;34m\u001b[0m\u001b[0;34m\u001b[0m\u001b[0m\n\u001b[1;32m    628\u001b[0m         )\n",
            "\u001b[0;32m/usr/local/lib/python3.11/dist-packages/torch/autograd/__init__.py\u001b[0m in \u001b[0;36mbackward\u001b[0;34m(tensors, grad_tensors, retain_graph, create_graph, grad_variables, inputs)\u001b[0m\n\u001b[1;32m    345\u001b[0m     \u001b[0;31m# some Python versions print out the first line of a multi-line function\u001b[0m\u001b[0;34m\u001b[0m\u001b[0;34m\u001b[0m\u001b[0m\n\u001b[1;32m    346\u001b[0m     \u001b[0;31m# calls in the traceback and some print out the last line\u001b[0m\u001b[0;34m\u001b[0m\u001b[0;34m\u001b[0m\u001b[0m\n\u001b[0;32m--> 347\u001b[0;31m     _engine_run_backward(\n\u001b[0m\u001b[1;32m    348\u001b[0m         \u001b[0mtensors\u001b[0m\u001b[0;34m,\u001b[0m\u001b[0;34m\u001b[0m\u001b[0;34m\u001b[0m\u001b[0m\n\u001b[1;32m    349\u001b[0m         \u001b[0mgrad_tensors_\u001b[0m\u001b[0;34m,\u001b[0m\u001b[0;34m\u001b[0m\u001b[0;34m\u001b[0m\u001b[0m\n",
            "\u001b[0;32m/usr/local/lib/python3.11/dist-packages/torch/autograd/graph.py\u001b[0m in \u001b[0;36m_engine_run_backward\u001b[0;34m(t_outputs, *args, **kwargs)\u001b[0m\n\u001b[1;32m    821\u001b[0m         \u001b[0munregister_hooks\u001b[0m \u001b[0;34m=\u001b[0m \u001b[0m_register_logging_hooks_on_whole_graph\u001b[0m\u001b[0;34m(\u001b[0m\u001b[0mt_outputs\u001b[0m\u001b[0;34m)\u001b[0m\u001b[0;34m\u001b[0m\u001b[0;34m\u001b[0m\u001b[0m\n\u001b[1;32m    822\u001b[0m     \u001b[0;32mtry\u001b[0m\u001b[0;34m:\u001b[0m\u001b[0;34m\u001b[0m\u001b[0;34m\u001b[0m\u001b[0m\n\u001b[0;32m--> 823\u001b[0;31m         return Variable._execution_engine.run_backward(  # Calls into the C++ engine to run the backward pass\n\u001b[0m\u001b[1;32m    824\u001b[0m             \u001b[0mt_outputs\u001b[0m\u001b[0;34m,\u001b[0m \u001b[0;34m*\u001b[0m\u001b[0margs\u001b[0m\u001b[0;34m,\u001b[0m \u001b[0;34m**\u001b[0m\u001b[0mkwargs\u001b[0m\u001b[0;34m\u001b[0m\u001b[0;34m\u001b[0m\u001b[0m\n\u001b[1;32m    825\u001b[0m         )  # Calls into the C++ engine to run the backward pass\n",
            "\u001b[0;31mKeyboardInterrupt\u001b[0m: "
          ]
        }
      ]
    },
    {
      "cell_type": "code",
      "source": [
        "import torch\n",
        "import torch.nn as nn\n",
        "import torch.optim as optim\n",
        "from torch.utils.data import DataLoader, TensorDataset\n",
        "from sklearn.model_selection import train_test_split\n",
        "from sklearn.preprocessing import StandardScaler\n",
        "import numpy as np\n",
        "\n",
        "\n",
        "# Train-test split\n",
        "X_train, X_test, y_train, y_test = train_test_split(closure_parameters, joint_angles, test_size=0.2, random_state=42)\n",
        "\n",
        "# Standardize inputs\n",
        "scaler = StandardScaler()\n",
        "X_train = scaler.fit_transform(X_train)\n",
        "X_test = scaler.transform(X_test)\n",
        "\n",
        "# Convert to PyTorch tensors\n",
        "X_train, y_train = torch.tensor(X_train, dtype=torch.float32), torch.tensor(y_train, dtype=torch.float32)\n",
        "X_test, y_test = torch.tensor(X_test, dtype=torch.float32), torch.tensor(y_test, dtype=torch.float32)\n",
        "\n",
        "# Create DataLoader\n",
        "batch_size = 64\n",
        "train_dataset = TensorDataset(X_train, y_train)\n",
        "train_loader = DataLoader(train_dataset, batch_size=batch_size, shuffle=True)\n",
        "\n",
        "# Define the Variational Autoencoder (VAE)\n",
        "class VAE(nn.Module):\n",
        "    def __init__(self, input_dim, latent_dim, output_dim):\n",
        "        super(VAE, self).__init__()\n",
        "\n",
        "        # Encoder\n",
        "        self.encoder = nn.Sequential(\n",
        "            nn.Linear(input_dim, 128),\n",
        "            nn.ReLU(),\n",
        "            nn.Linear(128, 64),\n",
        "            nn.ReLU()\n",
        "        )\n",
        "\n",
        "        # Latent space\n",
        "        self.mu = nn.Linear(64, latent_dim)  # Mean of latent distribution\n",
        "        self.log_var = nn.Linear(64, latent_dim)  # Log variance\n",
        "\n",
        "        # Decoder\n",
        "        self.decoder = nn.Sequential(\n",
        "            nn.Linear(latent_dim, 64),\n",
        "            nn.ReLU(),\n",
        "            nn.Linear(64, 128),\n",
        "            nn.ReLU(),\n",
        "            nn.Linear(128, output_dim)\n",
        "        )\n",
        "\n",
        "    def reparameterize(self, mu, log_var):\n",
        "        std = torch.exp(0.5 * log_var)  # Standard deviation\n",
        "        eps = torch.randn_like(std)  # Sample noise\n",
        "        return mu + eps * std  # Reparameterized sample\n",
        "\n",
        "    def forward(self, x):\n",
        "        encoded = self.encoder(x)\n",
        "        mu, log_var = self.mu(encoded), self.log_var(encoded)\n",
        "        z = self.reparameterize(mu, log_var)  # Sample from latent space\n",
        "        decoded = self.decoder(z)  # Predict joint angles\n",
        "        return decoded, mu, log_var\n",
        "\n",
        "# Model initialization\n",
        "input_dim = X_train.shape[1]\n",
        "latent_dim = 10  # Size of the latent space (tuneable)\n",
        "output_dim = y_train.shape[1]\n",
        "vae = VAE(input_dim, latent_dim, output_dim)\n",
        "\n",
        "# Loss function: MSE + KL Divergence\n",
        "def vae_loss(y_pred, y_true, mu, log_var):\n",
        "    reconstruction_loss = nn.MSELoss()(y_pred, y_true)\n",
        "    kl_divergence = -0.5 * torch.sum(1 + log_var - mu.pow(2) - log_var.exp())  # Regularization\n",
        "    return reconstruction_loss + kl_divergence * 1e-3  # Small weight for KL loss\n",
        "\n",
        "# Optimizer\n",
        "optimizer = optim.Adam(vae.parameters(), lr=0.001)\n",
        "\n",
        "# Training loop\n",
        "epochs = 500\n",
        "for epoch in range(epochs):\n",
        "    vae.train()\n",
        "    running_loss = 0.0\n",
        "    for batch_X, batch_y in train_loader:\n",
        "        optimizer.zero_grad()\n",
        "        y_pred, mu, log_var = vae(batch_X)\n",
        "        loss = vae_loss(y_pred, batch_y, mu, log_var)\n",
        "        loss.backward()\n",
        "        optimizer.step()\n",
        "        running_loss += loss.item()\n",
        "\n",
        "    if epoch % 50 == 0:\n",
        "        print(f\"Epoch {epoch}/{epochs}, Loss: {running_loss / len(train_loader):.6f}\")\n",
        "\n",
        "# Evaluate on test set\n",
        "vae.eval()\n",
        "with torch.no_grad():\n",
        "    y_pred, _, _ = vae(X_test)\n",
        "    test_mae = torch.mean(torch.abs(y_pred - y_test)).item()\n",
        "\n",
        "print(f\"Mean Absolute Error on Test Set: {test_mae:.6f}\")\n",
        "\n",
        "# Print some test samples\n",
        "for i in range(5):\n",
        "    print(f\"Test Sample {i+1}\")\n",
        "    print(\"Actual:\", y_test[i].numpy())\n",
        "    print(\"Predicted:\", y_pred[i].numpy())\n",
        "    print(\"-\" * 50)\n"
      ],
      "metadata": {
        "colab": {
          "base_uri": "https://localhost:8080/"
        },
        "id": "kOL52_lDmWMw",
        "outputId": "a7caa555-737e-420b-e47a-b1c97f134793"
      },
      "execution_count": null,
      "outputs": [
        {
          "output_type": "stream",
          "name": "stdout",
          "text": [
            "Epoch 0/500, Loss: 7045.328136\n",
            "Epoch 50/500, Loss: 1371.704268\n",
            "Epoch 100/500, Loss: 1250.058046\n",
            "Epoch 150/500, Loss: 1216.708610\n",
            "Epoch 200/500, Loss: 1198.867622\n",
            "Epoch 250/500, Loss: 1174.507944\n",
            "Epoch 300/500, Loss: 1161.238735\n",
            "Epoch 350/500, Loss: 1151.247455\n",
            "Epoch 400/500, Loss: 1137.254013\n",
            "Epoch 450/500, Loss: 1127.648578\n",
            "Mean Absolute Error on Test Set: 10.920850\n",
            "Test Sample 1\n",
            "Actual: [ -23.8808   -147.7273    -30.56149    -2.043335 -159.9469    -22.69528\n",
            "    8.176638 -163.7588    -19.35907    36.03012   -86.2417     -6.025177\n",
            "   75.31094   -93.28214    -8.980255   63.06544    94.03695  -177.9341\n",
            "   40.88224   -77.13181     4.979383   85.06501    11.51526    93.15002\n",
            "   35.57439    93.31546   173.5354  ]\n",
            "Predicted: [ -29.199335   -42.073895   -27.160711   -10.038341   -38.66503\n",
            "  -18.452808    -1.7285691  -68.50235    -14.872401    35.759796\n",
            "  -79.472885    -5.3617053   73.4911     -87.82688    -11.54158\n",
            "   64.24836     86.72653   -163.38269     36.433483   -71.32751\n",
            "    3.0152361   79.206024    27.906082   103.51482     37.770786\n",
            "   85.955956   161.02162  ]\n",
            "--------------------------------------------------\n",
            "Test Sample 2\n",
            "Actual: [ -12.96231  -172.9974    -36.11047    27.93919   159.0884    -34.53503\n",
            "   53.59881   130.4166    -50.37341    54.09592   -87.90518    -4.970367\n",
            "   60.39755    95.31996  -177.9218     -2.600494   90.17213  -177.6916\n",
            "   44.64563   -76.47464     5.571106   80.34657    67.07738   148.4302\n",
            "   22.75885    94.79852   174.3767  ]\n",
            "Predicted: [ -15.830922  -138.54095    -37.92236     26.978096   168.36661\n",
            "  -34.784588    54.363586   134.50064    -49.47185     59.655796\n",
            "  -92.17201     -4.6539354   57.805653   101.52506   -180.02562\n",
            "   -4.923021    94.2209    -186.43336     50.76926    -78.202385\n",
            "    6.4362645   73.94237     57.732468   142.80667     15.362175\n",
            "  102.70798    181.03836  ]\n",
            "--------------------------------------------------\n",
            "Test Sample 3\n",
            "Actual: [ -38.36444  -161.9772    -38.03598   -36.8418   -166.1496    -30.80859\n",
            "  -43.55664  -161.672     -30.19986     7.860286  -83.3067     -8.260773\n",
            "    8.311191  -83.34735    -5.0466     17.59779   -83.11975    -1.5896\n",
            "    2.202814  -81.00742     1.062923   14.08921   -80.42285     2.883931\n",
            "   21.92406   -79.55316     4.387605]\n",
            "Predicted: [-37.625378  -32.751358  -35.573185  -36.683754  -25.857285  -27.589958\n",
            " -44.855907  -30.739721  -25.992922    9.578525  -83.82592    -8.181855\n",
            "   7.659549  -86.30774    -2.9279432  15.689283  -78.213234   -4.8349733\n",
            "   2.9180832 -80.59971     1.0014839  11.725239  -77.53548     6.440651\n",
            "  17.93208   -79.805626    5.035194 ]\n",
            "--------------------------------------------------\n",
            "Test Sample 4\n",
            "Actual: [ -12.96234  -172.9974    -36.11047    27.93918   159.0884    -34.53503\n",
            "   53.59881   130.4166    -50.37341    77.11575   -90.41263    -4.277496\n",
            "    5.091918   90.63927  -179.7633    -84.46945    48.978    -139.0141\n",
            "   77.90826   -56.49503    24.32602     5.825586   97.40703   174.6921\n",
            "  -80.23425  -106.7643     24.66137 ]\n",
            "Predicted: [ -13.487152  -177.71661    -37.906902    28.616953   157.01787\n",
            "  -36.246548    55.442303   126.051476   -52.08301     81.41282\n",
            "  -94.36861     -4.2647142    3.7415044   94.83149   -185.31053\n",
            "  -86.27897     56.939465  -150.97842     80.77515    -59.428158\n",
            "   24.322437     7.461013    96.48429    177.006      -78.019066\n",
            " -100.10099     38.49387  ]\n",
            "--------------------------------------------------\n",
            "Test Sample 5\n",
            "Actual: [ -28.58173  -122.1376    -36.40869   -26.98941  -125.8365    -30.00323\n",
            "  -33.77847  -122.0488    -28.4183      7.860287  -83.3067     -8.260773\n",
            "    8.311193  -83.34735    -5.0466     17.59779   -83.11975    -1.5896\n",
            "   65.57319   -69.87521    11.56335    35.1951     94.1997    173.4513\n",
            "  -51.61566   102.6801    172.7762  ]\n",
            "Predicted: [ -33.84734   -110.71788    -37.39809    -33.85191   -118.79418\n",
            "  -29.982613   -41.913475  -104.26004    -27.826029     9.638439\n",
            "  -82.92573     -8.022874     4.7204747  -79.84016     -5.529337\n",
            "   12.383794   -80.80815     -1.6209706   63.234776   -66.981895\n",
            "   12.326649    32.80173     87.64779    166.33107    -46.564575\n",
            "   80.82072    153.89928  ]\n",
            "--------------------------------------------------\n"
          ]
        }
      ]
    },
    {
      "cell_type": "code",
      "source": [
        "# Example usage\n",
        "print(\"\\nPrediction for [0.5, 0.2, 0.3]:\")\n",
        "print(predict_joint_angles(0.64, 0.53, 0.85), \"...\")  # First 5 angles"
      ],
      "metadata": {
        "colab": {
          "base_uri": "https://localhost:8080/"
        },
        "id": "3KoioGp6dpPd",
        "outputId": "6a9d0c9c-5894-42a8-e69d-b3b6593ef21e"
      },
      "execution_count": null,
      "outputs": [
        {
          "output_type": "stream",
          "name": "stdout",
          "text": [
            "\n",
            "Prediction for [0.5, 0.2, 0.3]:\n",
            "[ -22.991571   -98.37685    -33.530678     7.4693217   69.27075\n",
            "  -28.3136      21.733791    68.98042    -35.185658    48.230095\n",
            "  -87.50157     -5.611447    31.68982     18.234537  -107.938484\n",
            "  -14.872257    31.610498  -115.779686    44.142944   -71.312996\n",
            "   10.397556    30.637436    26.947237   101.41669    -15.682843\n",
            "  -12.095941    78.45353  ] ...\n"
          ]
        }
      ]
    },
    {
      "cell_type": "code",
      "source": [
        "-45.93796,145.0146,-28.78024,-12.06824,129.0814,-15.38309,8.699547,124.5479,-11.68567,46.43133,-87.20255,-5.386444,79.02915,102.0949,-172.1305,25.31791,91.6809,-178.1561,69.24675,-67.51874,13.76224,26.70352,95.25876,174.0095,-65.1427,106.5657,169.6251"
      ],
      "metadata": {
        "id": "gUtlP-bsd51O"
      },
      "execution_count": null,
      "outputs": []
    },
    {
      "cell_type": "code",
      "source": [
        "from sklearn.preprocessing import StandardScaler"
      ],
      "metadata": {
        "id": "cF1UsNLBcg-n"
      },
      "execution_count": null,
      "outputs": []
    },
    {
      "cell_type": "code",
      "source": [
        "# Specialized scaling for angles\n",
        "def scale_angles(angles):\n",
        "    \"\"\"Convert angles to sin/cos representation\"\"\"\n",
        "    return np.column_stack([np.sin(np.radians(angles)),\n",
        "                          np.cos(np.radians(angles))]).reshape(angles.shape[0], -1)\n",
        "\n",
        "y_scaled = scale_angles(joint_angles)  # Now shape (n_samples, 54) [sin+cos for each angle]\n",
        "scaler_X = StandardScaler().fit(closure_parameters)\n",
        "X_scaled = scaler_X.transform(closure_parameters)\n",
        "\n",
        "# 80/10/10 Split\n",
        "X_train, X_temp, y_train, y_temp = train_test_split(X_scaled, y_scaled, test_size=0.2, random_state=42)\n",
        "X_val, X_test, y_val, y_test = train_test_split(X_temp, y_temp, test_size=0.5, random_state=42)\n",
        "\n",
        "# Convert to PyTorch tensors\n",
        "X_train_t = torch.FloatTensor(X_train)\n",
        "y_train_t = torch.FloatTensor(y_train)\n",
        "X_val_t = torch.FloatTensor(X_val)\n",
        "y_val_t = torch.FloatTensor(y_val)\n",
        "\n",
        "# Improved VAE Architecture\n",
        "class AngleVAE(nn.Module):\n",
        "    def __init__(self):\n",
        "        super().__init__()\n",
        "        # Encoder\n",
        "        self.encoder = nn.Sequential(\n",
        "            nn.Linear(3, 128),\n",
        "            nn.ReLU(),\n",
        "            nn.Linear(128, 64)\n",
        "        )\n",
        "        self.fc_mean = nn.Linear(64, 8)\n",
        "        self.fc_logvar = nn.Linear(64, 8)\n",
        "\n",
        "        # Decoder (outputs sin/cos pairs)\n",
        "        self.decoder = nn.Sequential(\n",
        "            nn.Linear(8, 64),\n",
        "            nn.ReLU(),\n",
        "            nn.Linear(64, 128),\n",
        "            nn.ReLU(),\n",
        "            nn.Linear(128, 54),  # 27 angles * [sin,cos]\n",
        "            nn.Tanh()  # Constrain to [-1,1] for valid sin/cos\n",
        "        )\n",
        "\n",
        "    def encode(self, x):\n",
        "        h = self.encoder(x)\n",
        "        return self.fc_mean(h), self.fc_logvar(h)\n",
        "\n",
        "    def decode(self, z):\n",
        "        return self.decoder(z)\n",
        "\n",
        "    def forward(self, x):\n",
        "        z_mean, z_logvar = self.encode(x)\n",
        "        z = z_mean + torch.exp(0.5 * z_logvar) * torch.randn_like(z_logvar)\n",
        "        return self.decode(z), z_mean, z_logvar\n",
        "\n",
        "model = AngleVAE()\n",
        "optimizer = optim.Adam(model.parameters(), lr=0.001)\n",
        "\n",
        "# Angular-aware loss\n",
        "def angular_loss(pred_sincos, true_sincos):\n",
        "    \"\"\"Compute mean angular error in degrees\"\"\"\n",
        "    pred_sin, pred_cos = pred_sincos[:,::2], pred_sincos[:,1::2]\n",
        "    true_sin, true_cos = true_sincos[:,::2], true_sincos[:,1::2]\n",
        "\n",
        "    # Calculate angular difference\n",
        "    dot = pred_cos*true_cos + pred_sin*true_sin\n",
        "    angle_diff = torch.acos(torch.clamp(dot, -1, 1))  # in radians\n",
        "    return torch.mean(angle_diff) * 180 / np.pi  # convert to degrees\n",
        "\n",
        "def loss_function(recon_y, y, z_mean, z_logvar):\n",
        "    recon_loss = angular_loss(recon_y, y)\n",
        "    kl_loss = -0.5 * torch.sum(1 + z_logvar - z_mean.pow(2) - z_logvar.exp())\n",
        "    return recon_loss + 0.01 * kl_loss  # Reduced KL weight\n",
        "\n",
        "# Training with early stopping\n",
        "train_losses, val_losses = [], []\n",
        "best_val_loss = float('inf')\n",
        "patience = 5\n",
        "epochs_no_improve = 0\n",
        "\n",
        "for epoch in range(300):\n",
        "    # Training\n",
        "    model.train()\n",
        "    optimizer.zero_grad()\n",
        "    recon_y, z_mean, z_logvar = model(X_train_t)\n",
        "    loss = loss_function(recon_y, y_train_t, z_mean, z_logvar)\n",
        "    loss.backward()\n",
        "    optimizer.step()\n",
        "    train_losses.append(loss.item())\n",
        "\n",
        "    # Validation\n",
        "    model.eval()\n",
        "    with torch.no_grad():\n",
        "        recon_val, z_mean_val, z_logvar_val = model(X_val_t)\n",
        "        val_loss = loss_function(recon_val, y_val_t, z_mean_val, z_logvar_val)\n",
        "        val_losses.append(val_loss.item())\n",
        "\n",
        "    # Early stopping\n",
        "    if val_loss < best_val_loss:\n",
        "        best_val_loss = val_loss\n",
        "        epochs_no_improve = 0\n",
        "        torch.save(model.state_dict(), 'best_vae.pth')\n",
        "    else:\n",
        "        epochs_no_improve += 1\n",
        "        if epochs_no_improve == patience:\n",
        "            print(f\"Early stopping at epoch {epoch}!\")\n",
        "            break\n",
        "\n",
        "    if epoch % 10 == 0:\n",
        "        print(f\"Epoch {epoch}: Train Loss = {loss.item():.1f}°, Val Loss = {val_loss.item():.1f}°\")\n",
        "\n",
        "# Load best model\n",
        "model.load_state_dict(torch.load('best_vae.pth'))\n",
        "\n",
        "# Convert sin/cos back to angles\n",
        "def sincos_to_angles(sincos):\n",
        "    \"\"\"Convert [sin,cos] pairs back to degrees\"\"\"\n",
        "    sincos = sincos.reshape(-1, 2)\n",
        "    angles = np.degrees(np.arctan2(sincos[:,0], sincos[:,1]))\n",
        "    return angles.reshape(-1, 27)  # Original shape\n",
        "\n",
        "# Test evaluation\n",
        "model.eval()\n",
        "with torch.no_grad():\n",
        "    recon_test, _, _ = model(torch.FloatTensor(X_test))\n",
        "    test_loss = angular_loss(recon_test, torch.FloatTensor(y_test))\n",
        "    print(f\"\\nTest Mean Angular Error: {test_loss.item():.1f}°\")\n",
        "\n",
        "    # Compare first sample\n",
        "    pred_angles = sincos_to_angles(recon_test[0].numpy())\n",
        "    true_angles = sincos_to_angles(y_test[0])\n",
        "    print(\"\\nTest Sample Comparison:\")\n",
        "    print(\"Predicted:\", pred_angles[:5].round(1))\n",
        "    print(\"Actual:   \", true_angles[:5].round(1))\n",
        "\n",
        "# Plot training\n",
        "plt.plot(train_losses, label='Train')\n",
        "plt.plot(val_losses, label='Validation')\n",
        "plt.xlabel('Epoch')\n",
        "plt.ylabel('Angular Error (°)')\n",
        "plt.legend()\n",
        "plt.show()\n",
        "\n",
        "# Prediction function\n",
        "def predict_joint_angles(thumb, index, middle):\n",
        "    closure = np.array([[thumb, index, middle]])\n",
        "    closure_scaled = scaler_X.transform(closure)\n",
        "    with torch.no_grad():\n",
        "        sincos = model(torch.FloatTensor(closure_scaled))[0]\n",
        "    return sincos_to_angles(sincos.numpy())[0]\n",
        "\n",
        "# Example usage\n",
        "print(\"\\nPrediction for [0.5, 0.2, 0.3]:\")\n",
        "print(predict_joint_angles(0.5, 0.2, 0.3).round(1))"
      ],
      "metadata": {
        "colab": {
          "base_uri": "https://localhost:8080/",
          "height": 831
        },
        "id": "eN_hVxCOcCAr",
        "outputId": "dc7597ee-cbf7-4779-bbcb-440a08601beb"
      },
      "execution_count": null,
      "outputs": [
        {
          "output_type": "stream",
          "name": "stdout",
          "text": [
            "Epoch 0: Train Loss = 93.2°, Val Loss = 88.7°\n",
            "Epoch 10: Train Loss = 75.8°, Val Loss = 72.9°\n",
            "Epoch 20: Train Loss = 47.6°, Val Loss = 43.9°\n",
            "Epoch 30: Train Loss = 35.1°, Val Loss = 34.5°\n",
            "Epoch 40: Train Loss = 33.1°, Val Loss = 32.8°\n",
            "Epoch 50: Train Loss = 32.8°, Val Loss = 32.7°\n",
            "Epoch 60: Train Loss = 32.8°, Val Loss = 32.6°\n",
            "Epoch 70: Train Loss = 32.7°, Val Loss = 32.6°\n",
            "Early stopping at epoch 75!\n",
            "\n",
            "Test Mean Angular Error: 32.8°\n",
            "\n",
            "Test Sample Comparison:\n",
            "Predicted: [[-135.   -45.   135.    45.   -45.  -135.    45.2 -135.   135.   135.1\n",
            "    45.    44.9 -134.9   45.   -44.8  135.1   45.   -45.1   45.    45.1\n",
            "  -135.    45.   -45.    45.    45.   -44.5  -45. ]]\n",
            "Actual:    [[-125.8  -52.8  154.7   52.9  -33.8  -94.3    5.1 -179.8  131.   130.5\n",
            "    76.2   84.7 -134.2   23.3  -49.9  137.    53.3  -47.1   91.8   45.\n",
            "  -179.4    8.4  -74.5   31.2   97.4  -80.3  -17.6]]\n"
          ]
        },
        {
          "output_type": "display_data",
          "data": {
            "text/plain": [
              "<Figure size 640x480 with 1 Axes>"
            ],
            "image/png": "[encoded data removed]"
          },
          "metadata": {}
        },
        {
          "output_type": "stream",
          "name": "stdout",
          "text": [
            "\n",
            "Prediction for [0.5, 0.2, 0.3]:\n",
            "[-135.1  -45.   135.    45.   -45.2]\n"
          ]
        }
      ]
    },
    {
      "cell_type": "code",
      "source": [
        "# Example usage\n",
        "print(\"\\nPrediction for [0.64, 0.53, 0.85]:\")\n",
        "print(predict_joint_angles(0.64, 0.53, 0.85).round(1))"
      ],
      "metadata": {
        "colab": {
          "base_uri": "https://localhost:8080/"
        },
        "id": "jNCo9tVec3O0",
        "outputId": "fecb29b1-325d-4eed-d101-8f8735339c43"
      },
      "execution_count": null,
      "outputs": [
        {
          "output_type": "stream",
          "name": "stdout",
          "text": [
            "\n",
            "Prediction for [0.64, 0.53, 0.85]:\n",
            "[-135.   -45.   135.    45.   -45.  -135.    45.  -135.   135.   135.\n",
            "   45.    45.  -134.9   45.   -45.   135.    45.   -45.    45.    45.1\n",
            " -135.    45.   -45.    45.    45.   -44.8  -45. ]\n"
          ]
        }
      ]
    },
    {
      "cell_type": "code",
      "source": [
        "-45.93796,145.0146,-28.78024,-12.06824,129.0814,-15.38309,8.699547,124.5479,-11.68567,46.43133,-87.20255,-5.386444,79.02915,102.0949,-172.1305,25.31791,91.6809,-178.1561,69.24675,-67.51874,13.76224,26.70352,95.25876,174.0095,-65.1427,106.5657,169.6251"
      ],
      "metadata": {
        "id": "_z2SwTFQdKL8"
      },
      "execution_count": null,
      "outputs": []
    },
    {
      "cell_type": "code",
      "source": [
        "# VAE Model (CPU-only)\n",
        "class VAE(nn.Module):\n",
        "    def __init__(self):\n",
        "        super().__init__()\n",
        "        # Encoder: Closures → Latent space\n",
        "        self.fc1 = nn.Linear(3, 64)  # Input: 3 closure params\n",
        "        self.fc_mean = nn.Linear(64, 8)  # Latent mean\n",
        "        self.fc_logvar = nn.Linear(64, 8)  # Latent log variance\n",
        "\n",
        "        # Decoder: Latent space → Joint angles\n",
        "        self.fc2 = nn.Linear(8, 64)\n",
        "        self.fc3 = nn.Linear(64, 27)  # Output: 27 joint angles\n",
        "\n",
        "    def encode(self, x):\n",
        "        h = torch.relu(self.fc1(x))\n",
        "        return self.fc_mean(h), self.fc_logvar(h)\n",
        "\n",
        "    def decode(self, z):\n",
        "        h = torch.relu(self.fc2(z))\n",
        "        return torch.sigmoid(self.fc3(h))  # Output in [0,1]\n",
        "\n",
        "    def forward(self, x):\n",
        "        z_mean, z_logvar = self.encode(x)\n",
        "        z = z_mean + torch.exp(0.5 * z_logvar) * torch.randn_like(z_logvar)\n",
        "        return self.decode(z), z_mean, z_logvar\n",
        "\n",
        "# Initialize model (CPU)\n",
        "model = VAE()\n",
        "optimizer = optim.Adam(model.parameters(), lr=0.001)\n",
        "\n",
        "# Loss function\n",
        "def loss_function(recon_y, y, z_mean, z_logvar):\n",
        "    MSE = nn.MSELoss()(recon_y, y)\n",
        "    KLD = -0.5 * torch.sum(1 + z_logvar - z_mean.pow(2) - z_logvar.exp())\n",
        "    return MSE + 0.1 * KLD  # Adjust KLD weight as needed\n",
        "\n",
        "# Training loop\n",
        "for epoch in range(100):\n",
        "    optimizer.zero_grad()\n",
        "    recon_y, z_mean, z_logvar = model(X_tensor)\n",
        "    loss = loss_function(recon_y, y_tensor, z_mean, z_logvar)\n",
        "    loss.backward()\n",
        "    optimizer.step()\n",
        "    if epoch % 10 == 0:\n",
        "        print(f\"Epoch {epoch}, Loss: {loss.item():.4f}\")\n",
        "\n",
        "# Prediction function\n",
        "def predict_joint_angles(thumb, index, middle):\n",
        "    closure = np.array([[thumb, index, middle]])\n",
        "    closure_scaled = scaler_closures.transform(closure)\n",
        "    closure_tensor = torch.FloatTensor(closure_scaled)\n",
        "    with torch.no_grad():\n",
        "        recon_y, _, _ = model(closure_tensor)\n",
        "    return scaler_joints.inverse_transform(recon_y.numpy())[0]  # Return 27D joint angles\n",
        "\n",
        "# Example: Predict for [0.5, 0.2, 0.3] closures\n",
        "predicted_angles = predict_joint_angles(0.5, 0.2, 0.3)\n",
        "print(\"Predicted angles:\", predicted_angles)"
      ],
      "metadata": {
        "colab": {
          "base_uri": "https://localhost:8080/"
        },
        "id": "G0xp1xPlYBvQ",
        "outputId": "4b7d4625-f3ca-484c-82f1-785ac65765ac"
      },
      "execution_count": null,
      "outputs": [
        {
          "output_type": "stream",
          "name": "stdout",
          "text": [
            "Epoch 0, Loss: 89.1566\n",
            "Epoch 10, Loss: 29.3583\n",
            "Epoch 20, Loss: 11.2880\n",
            "Epoch 30, Loss: 6.9195\n",
            "Epoch 40, Loss: 5.0285\n",
            "Epoch 50, Loss: 3.3592\n",
            "Epoch 60, Loss: 2.2752\n",
            "Epoch 70, Loss: 1.6644\n",
            "Epoch 80, Loss: 1.2325\n",
            "Epoch 90, Loss: 0.9474\n",
            "Predicted angles: [ -23.639408   -89.22204    -33.405434     9.22498     75.07318\n",
            "  -27.019674    25.684263    74.54206    -32.610676    47.00944\n",
            "  -87.49344     -5.621531    30.28284     16.101303  -101.11454\n",
            "   -3.8516138   16.636707  -112.04336     41.67691    -72.01359\n",
            "    9.887829    30.750292    11.19434     92.94161    -14.114266\n",
            "  -12.007023    81.54918  ]\n"
          ]
        }
      ]
    },
    {
      "cell_type": "markdown",
      "source": [
        "# Sinergie"
      ],
      "metadata": {
        "id": "7rry6VocXWUt"
      }
    },
    {
      "cell_type": "code",
      "source": [
        "###### FROM JOINT CONFIGURATION FIND SYNERGY #######"
      ],
      "metadata": {
        "id": "uf8bDTx73aTg"
      },
      "execution_count": null,
      "outputs": []
    },
    {
      "cell_type": "code",
      "source": [
        "import numpy as np\n",
        "import csv\n",
        "from sklearn.decomposition import PCA\n",
        "from sklearn.preprocessing import StandardScaler\n",
        "dataset_path = '/content/drive/MyDrive/Medical_Robotics_Project/hand_dataset_3.csv.csv'\n",
        "joint_angles_path = '/content/drive/MyDrive/Medical_Robotics_Project/hand_dataset_2.csv'"
      ],
      "metadata": {
        "id": "IJjsqgz03jpI"
      },
      "execution_count": null,
      "outputs": []
    },
    {
      "cell_type": "code",
      "source": [
        "with open(joint_angles_path, 'r') as f:\n",
        "    reader = csv.reader(f)\n",
        "    next(reader)  # Skip header row\n",
        "    data = [row[:-3] for row in reader]  # Take all columns except last 3\n",
        "joint_angles = np.array(data, dtype=float)"
      ],
      "metadata": {
        "id": "FWVJ0zM-DP6m"
      },
      "execution_count": null,
      "outputs": []
    },
    {
      "cell_type": "code",
      "source": [
        "# Global min/max\n",
        "print(\"Global minimum:\", np.min(joint_angles))  # Output: -50.0\n",
        "print(\"Global maximum:\", np.max(joint_angles))  # Output: 130.0\n",
        "\n",
        "# Min/max per joint (column)\n",
        "print(\"\\nMin per joint angle:\", np.min(joint_angles, axis=0))\n",
        "print(\"Max per joint angle:\", np.max(joint_angles, axis=0))"
      ],
      "metadata": {
        "colab": {
          "base_uri": "https://localhost:8080/"
        },
        "id": "RHwdVYOcSqDS",
        "outputId": "6059b134-644f-4323-c18c-9bc1fa6e8263"
      },
      "execution_count": null,
      "outputs": [
        {
          "output_type": "stream",
          "name": "stdout",
          "text": [
            "Global minimum: -175.4776\n",
            "Global maximum: 130.0\n",
            "\n",
            "Min per joint angle: [ -50.          19.402       32.34242      3.197       -3.331268\n",
            "   -7.051727    -7.501007    -2.070404    -4.202332    13.256\n",
            "   -1.007141    -3.47168      0.4520001 -157.6784    -157.4591\n",
            "    9.231002  -105.4992    -104.9892       3.926001    -6.312958\n",
            "   -5.844055    10.77583   -161.0574    -160.981        6.441905\n",
            " -175.4776    -175.0774   ]\n",
            "Max per joint angle: [-1.120230e+01  1.300000e+02  4.416273e+01  4.894550e+01  1.739000e+00\n",
            " -4.631989e+00  3.310780e+01  6.920001e-01 -3.519470e+00  8.261530e+01\n",
            "  2.140176e+00  6.542000e+00  8.677913e+01 -2.499390e-02 -3.220001e+00\n",
            "  8.655440e+01 -1.042999e+00 -3.489990e+00  8.166057e+01  3.139420e-01\n",
            "  3.187000e+00  8.828206e+01 -3.304138e-01 -1.766632e+00  8.872604e+01\n",
            " -3.800354e-01 -1.260681e+00]\n"
          ]
        }
      ]
    },
    {
      "cell_type": "code",
      "source": [
        "# 1. Standardize\n",
        "scaler = StandardScaler()\n",
        "joint_angles_standardized = scaler.fit_transform(joint_angles)\n",
        "\n",
        "# 2. PCA with 95% variance retention\n",
        "pca = PCA(n_components=0.95)\n",
        "synergy_matrix = pca.fit_transform(joint_angles_standardized)\n",
        "\n",
        "print(f\"Original dimensions: {joint_angles.shape[1]}\")\n",
        "print(f\"Reduced dimensions: {synergy_matrix.shape[1]}\")\n",
        "print(f\"Explained variance: {np.sum(pca.explained_variance_ratio_):.2f}\")"
      ],
      "metadata": {
        "colab": {
          "base_uri": "https://localhost:8080/"
        },
        "id": "ky9SOrD7EpW2",
        "outputId": "90c5e873-a459-459c-c8fc-40350dc86135"
      },
      "execution_count": null,
      "outputs": [
        {
          "output_type": "stream",
          "name": "stdout",
          "text": [
            "Original dimensions: 27\n",
            "Reduced dimensions: 6\n",
            "Explained variance: 0.97\n"
          ]
        }
      ]
    },
    {
      "cell_type": "code",
      "source": [
        "import matplotlib.pyplot as plt\n",
        "plt.figure(figsize=(12, 6))\n",
        "plt.boxplot(joint_angles[:, :3], labels=['Thumb X', 'Thumb Y', 'Thumb Z'])  # First 3 columns (thumb)\n",
        "plt.title(\"Thumb Joint Angle Distribution\")\n",
        "plt.ylabel(\"Angle (degrees)\")\n",
        "plt.show()"
      ],
      "metadata": {
        "colab": {
          "base_uri": "https://localhost:8080/",
          "height": 401
        },
        "id": "kFatrA-_GNid",
        "outputId": "32feecd2-23bd-4f0e-fab6-26e7ae737428"
      },
      "execution_count": null,
      "outputs": [
        {
          "output_type": "stream",
          "name": "stderr",
          "text": [
            "<ipython-input-24-515e21eabcc5>:3: MatplotlibDeprecationWarning: The 'labels' parameter of boxplot() has been renamed 'tick_labels' since Matplotlib 3.9; support for the old name will be dropped in 3.11.\n",
            "  plt.boxplot(joint_angles[:, :3], labels=['Thumb X', 'Thumb Y', 'Thumb Z'])  # First 3 columns (thumb)\n"
          ]
        },
        {
          "output_type": "display_data",
          "data": {
            "text/plain": [
              "<Figure size 1200x600 with 1 Axes>"
            ],
            "image/png": "[encoded data removed]"
          },
          "metadata": {}
        }
      ]
    }
  ]
}